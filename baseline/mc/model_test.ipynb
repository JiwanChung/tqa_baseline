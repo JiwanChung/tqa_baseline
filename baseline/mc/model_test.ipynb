{
 "cells": [
  {
   "cell_type": "code",
   "execution_count": 1,
   "metadata": {},
   "outputs": [],
   "source": [
    "import torch\n",
    "\n",
    "from models import TextModel, ModuleNet\n",
    "\n",
    "import argparse\n",
    "import os\n",
    "from tensorboard import Logger\n",
    "from utils.ReCuda import ReCuda\n",
    "\n",
    "logger = Logger('./logs')\n",
    "\n",
    "args = type('args_test', (object,), {})()\n",
    "args.load_ckpt = None\n",
    "args.train = True\n",
    "args.test = False\n",
    "args.source_dir = '/home/jiwan/tqa/prepro/data'\n",
    "args.ckpt_dir = './ckpt'\n",
    "args.emb_dim = 300\n",
    "args.repeat = False\n",
    "args.learning_rate = 0.001\n",
    "args.if_pair = False\n",
    "args.log_epoch = 4\n",
    "args.bi_gru = True\n",
    "args.batch_size = 36\n",
    "args.verbose = False\n",
    "args.end_epoch = 100\n",
    "args.single_topic = False\n",
    "args.embed_size = 100\n",
    "args.shuffle = True\n",
    "args.large_topic = False\n",
    "args.reversible = True\n",
    "args.fix_length = True\n",
    "args.reasoning_planes = 16\n",
    "args.k = 4\n",
    "args.conf = 0.7\n",
    "args.h_size = 128\n",
    "args.hyper = False\n",
    "args.hidden_size = 300\n",
    "args.dim_words = 2\n",
    "args.ans_k = 7\n",
    "args.bi = 2 if args.bi_gru else 1\n",
    "\n",
    "args.resume = False\n",
    "if args.load_ckpt is not None:\n",
    "    args.resume = True\n",
    "\n",
    "args.test_iter = 'val'\n",
    "\n",
    "args.cuda = True\n",
    "if not torch.cuda.is_available():\n",
    "    args.cuda = False\n",
    "\n",
    "config = args\n",
    "config.recuda = ReCuda(config)\n",
    "config.ckpt_name = '_single'\n",
    "if not config.single_topic:\n",
    "    config.ckpt_name = '_all'\n",
    "if config.large_topic:\n",
    "    config.ckpt_name = '_full'\n",
    "\n",
    "config.logger = logger\n",
    "\n",
    "config.recuda.torch.manual_seed(1)\n",
    "\n",
    "config.model = ModuleNet\n",
    "\n"
   ]
  },
  {
   "cell_type": "code",
   "execution_count": 2,
   "metadata": {},
   "outputs": [
    {
     "name": "stdout",
     "output_type": "stream",
     "text": [
      "loading data_train_full.tsv, data_test_full.tsv, data_val_full.tsv\n"
     ]
    }
   ],
   "source": [
    "from readData import get_data\n",
    "\n",
    "data, iters, vocab, stats, Q = get_data(config)\n",
    "\n",
    "config.q_size = stats['question_size']\n",
    "config.a_size = stats['answer_size']\n",
    "config.c_size = stats['topic_size']\n",
    "config.keys = ['A', 'c']\n",
    "config.sizes = {'A': config.a_size, 'c': config.c_size}"
   ]
  },
  {
   "cell_type": "code",
   "execution_count": 3,
   "metadata": {},
   "outputs": [
    {
     "name": "stdout",
     "output_type": "stream",
     "text": [
      "('tens:', torch.Size([9, 22, 231]))\n",
      "('tens:', torch.Size([9, 11, 7]))\n"
     ]
    }
   ],
   "source": [
    "x = next(iter(iters['train']))"
   ]
  },
  {
   "cell_type": "code",
   "execution_count": 8,
   "metadata": {},
   "outputs": [
    {
     "data": {
      "text/plain": [
       "torch.Size([11, 7, 9])"
      ]
     },
     "execution_count": 8,
     "metadata": {},
     "output_type": "execute_result"
    }
   ],
   "source": [
    "x.answers.size()"
   ]
  },
  {
   "cell_type": "code",
   "execution_count": 18,
   "metadata": {},
   "outputs": [
    {
     "data": {
      "text/plain": [
       "torch.Size([22, 231, 9])"
      ]
     },
     "execution_count": 18,
     "metadata": {},
     "output_type": "execute_result"
    }
   ],
   "source": [
    "x.topic.size()"
   ]
  },
  {
   "cell_type": "code",
   "execution_count": 9,
   "metadata": {},
   "outputs": [
    {
     "data": {
      "text/plain": [
       "torch.Size([34, 9])"
      ]
     },
     "execution_count": 9,
     "metadata": {},
     "output_type": "execute_result"
    }
   ],
   "source": [
    "x.question.size()"
   ]
  },
  {
   "cell_type": "code",
   "execution_count": 17,
   "metadata": {},
   "outputs": [
    {
     "data": {
      "text/plain": [
       "['GeologyisthestudyofthesolidEarth.Geologistsstudyhowrocksandmineralsform.Thewaymountainsriseupispartofgeology.Thewaymountainserodeawayisanotherpart.GeologistsalsostudyfossilsandEarthshistory.Therearemanyotherbranchesofgeology.Thereissomuchtoknowaboutourhomeplanetthatmostgeologistsbecomespecialistsinonearea.ForUNKamineralogiststudiesUNKasseenin(Figure1.11).Somevolcanologistsbravemoltenlavatostudyvolcanoes.Seismologistsmonitorearthquakesworldwidetohelpprotectpeopleandpropertyfromharm(Figure1.11).Paleontologistsareinterestedinfossilsandhowancientorganismslived.ScientistswhocomparethegeologyofotherplanetstoEarthareplanetarygeologists.SomegeologistsstudytheMoon.Otherslookforpetroleum.Stillothersspecializeinstudyingsoil.Somegeologistscantellhowoldrocksareanddeterminehowdifferentrocklayersformed.ThereisprobablyanexpertinalmostanythingyoucanthinkofrelatedtoEarth!GeologistsmightstudyriversandUNKtheundergroundwaterfoundbetweensoilandrockUNKorevenwaterthatisfrozeninglaciers.EarthscientistsalsoneedgeographerswhoexplorethefeaturesofEarthssurfaceandworkwithUNKwhomakemaps.StudyingthelayersofrockbeneaththesurfacehelpsustounderstandthehistoryofplanetEarth(Figure1.12).',\n",
       " 'GeologyisthestudyofthesolidEarth.Geologistsstudyhowrocksandmineralsform.Thewaymountainsriseupispartofgeology.Thewaymountainserodeawayisanotherpart.GeologistsalsostudyfossilsandEarthshistory.Therearemanyotherbranchesofgeology.Thereissomuchtoknowaboutourhomeplanetthatmostgeologistsbecomespecialistsinonearea.ForUNKamineralogiststudiesUNKasseenin(Figure1.11).Somevolcanologistsbravemoltenlavatostudyvolcanoes.Seismologistsmonitorearthquakesworldwidetohelpprotectpeopleandpropertyfromharm(Figure1.11).Paleontologistsareinterestedinfossilsandhowancientorganismslived.ScientistswhocomparethegeologyofotherplanetstoEarthareplanetarygeologists.SomegeologistsstudytheMoon.Otherslookforpetroleum.Stillothersspecializeinstudyingsoil.Somegeologistscantellhowoldrocksareanddeterminehowdifferentrocklayersformed.ThereisprobablyanexpertinalmostanythingyoucanthinkofrelatedtoEarth!GeologistsmightstudyriversandUNKtheundergroundwaterfoundbetweensoilandrockUNKorevenwaterthatisfrozeninglaciers.EarthscientistsalsoneedgeographerswhoexplorethefeaturesofEarthssurfaceandworkwithUNKwhomakemaps.StudyingthelayersofrockbeneaththesurfacehelpsustounderstandthehistoryofplanetEarth(Figure1.12).',\n",
       " 'GeologyisthestudyofthesolidEarth.Geologistsstudyhowrocksandmineralsform.Thewaymountainsriseupispartofgeology.Thewaymountainserodeawayisanotherpart.GeologistsalsostudyfossilsandEarthshistory.Therearemanyotherbranchesofgeology.Thereissomuchtoknowaboutourhomeplanetthatmostgeologistsbecomespecialistsinonearea.ForUNKamineralogiststudiesUNKasseenin(Figure1.11).Somevolcanologistsbravemoltenlavatostudyvolcanoes.Seismologistsmonitorearthquakesworldwidetohelpprotectpeopleandpropertyfromharm(Figure1.11).Paleontologistsareinterestedinfossilsandhowancientorganismslived.ScientistswhocomparethegeologyofotherplanetstoEarthareplanetarygeologists.SomegeologistsstudytheMoon.Otherslookforpetroleum.Stillothersspecializeinstudyingsoil.Somegeologistscantellhowoldrocksareanddeterminehowdifferentrocklayersformed.ThereisprobablyanexpertinalmostanythingyoucanthinkofrelatedtoEarth!GeologistsmightstudyriversandUNKtheundergroundwaterfoundbetweensoilandrockUNKorevenwaterthatisfrozeninglaciers.EarthscientistsalsoneedgeographerswhoexplorethefeaturesofEarthssurfaceandworkwithUNKwhomakemaps.StudyingthelayersofrockbeneaththesurfacehelpsustounderstandthehistoryofplanetEarth(Figure1.12).',\n",
       " 'GeologyisthestudyofthesolidEarth.Geologistsstudyhowrocksandmineralsform.Thewaymountainsriseupispartofgeology.Thewaymountainserodeawayisanotherpart.GeologistsalsostudyfossilsandEarthshistory.Therearemanyotherbranchesofgeology.Thereissomuchtoknowaboutourhomeplanetthatmostgeologistsbecomespecialistsinonearea.ForUNKamineralogiststudiesUNKasseenin(Figure1.11).Somevolcanologistsbravemoltenlavatostudyvolcanoes.Seismologistsmonitorearthquakesworldwidetohelpprotectpeopleandpropertyfromharm(Figure1.11).Paleontologistsareinterestedinfossilsandhowancientorganismslived.ScientistswhocomparethegeologyofotherplanetstoEarthareplanetarygeologists.SomegeologistsstudytheMoon.Otherslookforpetroleum.Stillothersspecializeinstudyingsoil.Somegeologistscantellhowoldrocksareanddeterminehowdifferentrocklayersformed.ThereisprobablyanexpertinalmostanythingyoucanthinkofrelatedtoEarth!GeologistsmightstudyriversandUNKtheundergroundwaterfoundbetweensoilandrockUNKorevenwaterthatisfrozeninglaciers.EarthscientistsalsoneedgeographerswhoexplorethefeaturesofEarthssurfaceandworkwithUNKwhomakemaps.StudyingthelayersofrockbeneaththesurfacehelpsustounderstandthehistoryofplanetEarth(Figure1.12).',\n",
       " 'GeologyisthestudyofthesolidEarth.Geologistsstudyhowrocksandmineralsform.Thewaymountainsriseupispartofgeology.Thewaymountainserodeawayisanotherpart.GeologistsalsostudyfossilsandEarthshistory.Therearemanyotherbranchesofgeology.Thereissomuchtoknowaboutourhomeplanetthatmostgeologistsbecomespecialistsinonearea.ForUNKamineralogiststudiesUNKasseenin(Figure1.11).Somevolcanologistsbravemoltenlavatostudyvolcanoes.Seismologistsmonitorearthquakesworldwidetohelpprotectpeopleandpropertyfromharm(Figure1.11).Paleontologistsareinterestedinfossilsandhowancientorganismslived.ScientistswhocomparethegeologyofotherplanetstoEarthareplanetarygeologists.SomegeologistsstudytheMoon.Otherslookforpetroleum.Stillothersspecializeinstudyingsoil.Somegeologistscantellhowoldrocksareanddeterminehowdifferentrocklayersformed.ThereisprobablyanexpertinalmostanythingyoucanthinkofrelatedtoEarth!GeologistsmightstudyriversandUNKtheundergroundwaterfoundbetweensoilandrockUNKorevenwaterthatisfrozeninglaciers.EarthscientistsalsoneedgeographerswhoexplorethefeaturesofEarthssurfaceandworkwithUNKwhomakemaps.StudyingthelayersofrockbeneaththesurfacehelpsustounderstandthehistoryofplanetEarth(Figure1.12).',\n",
       " 'GeologyisthestudyofthesolidEarth.Geologistsstudyhowrocksandmineralsform.Thewaymountainsriseupispartofgeology.Thewaymountainserodeawayisanotherpart.GeologistsalsostudyfossilsandEarthshistory.Therearemanyotherbranchesofgeology.Thereissomuchtoknowaboutourhomeplanetthatmostgeologistsbecomespecialistsinonearea.ForUNKamineralogiststudiesUNKasseenin(Figure1.11).Somevolcanologistsbravemoltenlavatostudyvolcanoes.Seismologistsmonitorearthquakesworldwidetohelpprotectpeopleandpropertyfromharm(Figure1.11).Paleontologistsareinterestedinfossilsandhowancientorganismslived.ScientistswhocomparethegeologyofotherplanetstoEarthareplanetarygeologists.SomegeologistsstudytheMoon.Otherslookforpetroleum.Stillothersspecializeinstudyingsoil.Somegeologistscantellhowoldrocksareanddeterminehowdifferentrocklayersformed.ThereisprobablyanexpertinalmostanythingyoucanthinkofrelatedtoEarth!GeologistsmightstudyriversandUNKtheundergroundwaterfoundbetweensoilandrockUNKorevenwaterthatisfrozeninglaciers.EarthscientistsalsoneedgeographerswhoexplorethefeaturesofEarthssurfaceandworkwithUNKwhomakemaps.StudyingthelayersofrockbeneaththesurfacehelpsustounderstandthehistoryofplanetEarth(Figure1.12).',\n",
       " 'GeologyisthestudyofthesolidEarth.Geologistsstudyhowrocksandmineralsform.Thewaymountainsriseupispartofgeology.Thewaymountainserodeawayisanotherpart.GeologistsalsostudyfossilsandEarthshistory.Therearemanyotherbranchesofgeology.Thereissomuchtoknowaboutourhomeplanetthatmostgeologistsbecomespecialistsinonearea.ForUNKamineralogiststudiesUNKasseenin(Figure1.11).Somevolcanologistsbravemoltenlavatostudyvolcanoes.Seismologistsmonitorearthquakesworldwidetohelpprotectpeopleandpropertyfromharm(Figure1.11).Paleontologistsareinterestedinfossilsandhowancientorganismslived.ScientistswhocomparethegeologyofotherplanetstoEarthareplanetarygeologists.SomegeologistsstudytheMoon.Otherslookforpetroleum.Stillothersspecializeinstudyingsoil.Somegeologistscantellhowoldrocksareanddeterminehowdifferentrocklayersformed.ThereisprobablyanexpertinalmostanythingyoucanthinkofrelatedtoEarth!GeologistsmightstudyriversandUNKtheundergroundwaterfoundbetweensoilandrockUNKorevenwaterthatisfrozeninglaciers.EarthscientistsalsoneedgeographerswhoexplorethefeaturesofEarthssurfaceandworkwithUNKwhomakemaps.StudyingthelayersofrockbeneaththesurfacehelpsustounderstandthehistoryofplanetEarth(Figure1.12).',\n",
       " 'GeologyisthestudyofthesolidEarth.Geologistsstudyhowrocksandmineralsform.Thewaymountainsriseupispartofgeology.Thewaymountainserodeawayisanotherpart.GeologistsalsostudyfossilsandEarthshistory.Therearemanyotherbranchesofgeology.Thereissomuchtoknowaboutourhomeplanetthatmostgeologistsbecomespecialistsinonearea.ForUNKamineralogiststudiesUNKasseenin(Figure1.11).Somevolcanologistsbravemoltenlavatostudyvolcanoes.Seismologistsmonitorearthquakesworldwidetohelpprotectpeopleandpropertyfromharm(Figure1.11).Paleontologistsareinterestedinfossilsandhowancientorganismslived.ScientistswhocomparethegeologyofotherplanetstoEarthareplanetarygeologists.SomegeologistsstudytheMoon.Otherslookforpetroleum.Stillothersspecializeinstudyingsoil.Somegeologistscantellhowoldrocksareanddeterminehowdifferentrocklayersformed.ThereisprobablyanexpertinalmostanythingyoucanthinkofrelatedtoEarth!GeologistsmightstudyriversandUNKtheundergroundwaterfoundbetweensoilandrockUNKorevenwaterthatisfrozeninglaciers.EarthscientistsalsoneedgeographerswhoexplorethefeaturesofEarthssurfaceandworkwithUNKwhomakemaps.StudyingthelayersofrockbeneaththesurfacehelpsustounderstandthehistoryofplanetEarth(Figure1.12).',\n",
       " 'GeologyisthestudyofthesolidEarth.Geologistsstudyhowrocksandmineralsform.Thewaymountainsriseupispartofgeology.Thewaymountainserodeawayisanotherpart.GeologistsalsostudyfossilsandEarthshistory.Therearemanyotherbranchesofgeology.Thereissomuchtoknowaboutourhomeplanetthatmostgeologistsbecomespecialistsinonearea.ForUNKamineralogiststudiesUNKasseenin(Figure1.11).Somevolcanologistsbravemoltenlavatostudyvolcanoes.Seismologistsmonitorearthquakesworldwidetohelpprotectpeopleandpropertyfromharm(Figure1.11).Paleontologistsareinterestedinfossilsandhowancientorganismslived.ScientistswhocomparethegeologyofotherplanetstoEarthareplanetarygeologists.SomegeologistsstudytheMoon.Otherslookforpetroleum.Stillothersspecializeinstudyingsoil.Somegeologistscantellhowoldrocksareanddeterminehowdifferentrocklayersformed.ThereisprobablyanexpertinalmostanythingyoucanthinkofrelatedtoEarth!GeologistsmightstudyriversandUNKtheundergroundwaterfoundbetweensoilandrockUNKorevenwaterthatisfrozeninglaciers.EarthscientistsalsoneedgeographerswhoexplorethefeaturesofEarthssurfaceandworkwithUNKwhomakemaps.StudyingthelayersofrockbeneaththesurfacehelpsustounderstandthehistoryofplanetEarth(Figure1.12).']"
      ]
     },
     "execution_count": 17,
     "metadata": {},
     "output_type": "execute_result"
    }
   ],
   "source": [
    "Q.reverse(x.topic[0].data)"
   ]
  },
  {
   "cell_type": "code",
   "execution_count": null,
   "metadata": {},
   "outputs": [],
   "source": []
  },
  {
   "cell_type": "code",
   "execution_count": null,
   "metadata": {},
   "outputs": [],
   "source": [
    "def get_net(config, vocab):\n",
    "    if config.resume:\n",
    "        assert os.path.isdir('ckpt'), 'Error: no dir'\n",
    "        ckpt = torch.load(os.path.join(config.ckpt_dir, config.load_ckpt))\n",
    "        net = config.model(config, vocab)\n",
    "        net.load_state_dict(ckpt['params'])\n",
    "        best_acc = ckpt['acc']\n",
    "        start_epoch = ckpt['epoch']\n",
    "        print('RESUME {}th epoch'.format(start_epoch))\n",
    "    else:\n",
    "        net = config.model(config, vocab)\n",
    "        best_acc = 0\n",
    "        start_epoch = 0\n",
    "    net = config.recuda.var(net)\n",
    "    print('PARAMS: ', net.parameters)\n",
    "    return net, best_acc, start_epoch\n",
    "\n",
    "net, best_acc, config.start_epoch = get_net(config, vocab)"
   ]
  },
  {
   "cell_type": "code",
   "execution_count": null,
   "metadata": {},
   "outputs": [],
   "source": [
    "import torch\n",
    "from torch.autograd import Variable\n",
    "from tqdm import tqdm\n",
    "import torch.nn as nn\n",
    "\n",
    "import os\n",
    "from collections import Counter\n",
    "import pickle\n",
    "\n",
    "##\n",
    "def run_net(net, config, data):\n",
    "    answers_size = len(data.answers)\n",
    "    answers = torch.stack(data.answers, dim=2)\n",
    "\n",
    "    if config.single_topic:\n",
    "        topics = data.topic.data\n",
    "    else:\n",
    "        topics = torch.stack(data.topic, dim=2)\n",
    "\n",
    "    target = Variable(data.correct_answer.data, requires_grad=False)\n",
    "    target = config.recuda.var(target)\n",
    "    # print('t:', topics.size(), type(topics))\n",
    "    # run\n",
    "    return net.forward(topics, data.question, answers)\n",
    "\n",
    "\n",
    "##\n",
    "def train_epoch(net, config, data, train_iter, epoch):\n",
    "\n",
    "    # train\n",
    "    train_loss = 0\n",
    "    for batch_index, data in tqdm(enumerate(train_iter)):\n",
    "        net.zero_grad()\n",
    "        target = Variable(data.correct_answer.data, requires_grad=False)\n",
    "        target = config.recuda.var(target)\n",
    "\n",
    "        if config.verbose:\n",
    "            if config.single_topic:\n",
    "                print('context:', data.topic.data)\n",
    "            else:\n",
    "                print('context_list:', data.topic[0])\n",
    "\n",
    "        # run\n",
    "        y = run_net(net, config, data)\n",
    "\n",
    "        if config.verbose:\n",
    "            print('y:', y.data)\n",
    "            print('t:', target.data)\n",
    "\n",
    "        loss = config.loss_fn(y, target)\n",
    "        # count loss\n",
    "        loss.backward()\n",
    "        # optimize\n",
    "        config.optimizer.step()\n",
    "\n",
    "        train_loss += loss.data[0]\n",
    "        loss_per = train_loss / (batch_index + 1)\n",
    "        print(\"Training {} epoch, loss: {}\".format(epoch, loss_per))\n",
    "        config.logger.scalar_summary('tr_loss{}'.format(config.ckpt_name), loss_per, epoch + 1)\n",
    "\n",
    "\n",
    "##\n",
    "def validate_epoch(net, config, data, val_iter, epoch):\n",
    "    # validate from time to time\n",
    "\n",
    "    print(\"begin validation\")\n",
    "    correct = 0\n",
    "    total = 0\n",
    "    for index_v, data in tqdm(enumerate(val_iter)):\n",
    "        # run\n",
    "        y = run_net(net, config, data)\n",
    "\n",
    "        value, pred = torch.max(y, 1)\n",
    "        check = torch.eq(data.correct_answer.data, pred.data)\n",
    "        if config.verbose:\n",
    "            print(torch.sum(check), check.size())\n",
    "        correct += torch.sum(check)\n",
    "        total += (check.size()[0])\n",
    "\n",
    "    acc = 100.*correct/total\n",
    "    print(\"Val {} epoch, acc: {}\".format(epoch, acc))\n",
    "\n",
    "    config.logger.scalar_summary('val_acc{}'.format(config.ckpt_name), acc, (epoch + 1))\n",
    "\n",
    "    return acc\n",
    "\n",
    "\n",
    "##\n",
    "def save_net(net, config, epoch, acc):\n",
    "    print('saving')\n",
    "    state = {\n",
    "        'params': net.state_dict(),\n",
    "        'acc': acc,\n",
    "        'epoch': epoch,\n",
    "    }\n",
    "    if not os.path.isdir('ckpt'):\n",
    "        os.mkdir('ckpt')\n",
    "    if not os.path.isdir('ckpt/temp'):\n",
    "        os.mkdir('ckpt/temp')\n",
    "    torch.save(state, os.path.join(config.ckpt_dir, 'temp', 'ckpt{}_{}.t7'.format(config.ckpt_name,epoch)))\n",
    "\n",
    "\n",
    "##\n",
    "def train_all(net, data, iters, config):\n",
    "    config.loss_fn = nn.CrossEntropyLoss()\n",
    "    config.optimizer = torch.optim.Adam(net.parameters(), lr=config.learning_rate)\n",
    "\n",
    "    for epoch in range(config.start_epoch, config.end_epoch):\n",
    "        print(\"{} epoch\".format(epoch))\n",
    "        train_epoch(net, config, data, iters['train'], epoch)\n",
    "        acc = validate_epoch(net, config, data, iters['val'], epoch)\n",
    "\n",
    "        save_net(net, config, epoch, acc)"
   ]
  },
  {
   "cell_type": "code",
   "execution_count": null,
   "metadata": {},
   "outputs": [],
   "source": [
    "# refresh\n",
    "\n",
    "net, best_acc, config.start_epoch = get_net(config, vocab)\n",
    "\n",
    "reload(net)"
   ]
  },
  {
   "cell_type": "code",
   "execution_count": null,
   "metadata": {},
   "outputs": [],
   "source": [
    "train_all(net, data, iters, config)"
   ]
  },
  {
   "cell_type": "code",
   "execution_count": null,
   "metadata": {},
   "outputs": [],
   "source": []
  }
 ],
 "metadata": {
  "kernelspec": {
   "display_name": "Python 2",
   "language": "python",
   "name": "python2"
  },
  "language_info": {
   "codemirror_mode": {
    "name": "ipython",
    "version": 2
   },
   "file_extension": ".py",
   "mimetype": "text/x-python",
   "name": "python",
   "nbconvert_exporter": "python",
   "pygments_lexer": "ipython2",
   "version": "2.7.12"
  }
 },
 "nbformat": 4,
 "nbformat_minor": 2
}
